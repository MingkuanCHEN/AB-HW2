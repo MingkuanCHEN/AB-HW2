{
 "cells": [
  {
   "cell_type": "markdown",
   "metadata": {},
   "source": [
    "## For\n",
    "\n",
    "```\n",
    "for i in {1..10}\n",
    "do\n",
    "echo $i\n",
    "done\n",
    "```\n",
    "\n",
    "## Loop through files using ls\n",
    "\n",
    "ls - lists all files and directories\n",
    "\n",
    "```\n",
    "for i in $(ls data/fastq/)\n",
    "do\n",
    "echo $i\n",
    "done\n",
    "```\n",
    "\n",
    "## String Replacement\n",
    "\n",
    "```\n",
    "a=\"helloworld\"\n",
    "echo $a\n",
    "echo ${a/world/foo}\n",
    "```\n",
    "\n",
    "## For loop to rename files\n",
    "\n",
    "```\n",
    "cd data/fastq\n",
    "for i in $(ls)\n",
    "do\n",
    "mv $i ${i/.fq/.fastq}\n",
    "done\n",
    "\n",
    "ls #See if files have been renamed\n",
    "```\n",
    "\n",
    "## Homework\n",
    "\n",
    "#### HW1: Print first 10 alphabets each in a new line\n",
    "\n",
    "#### HW2: Print first 10 multiples of 42 \n",
    "Tip: Use this syntax `echo $((2*2))` to evaluate numerical expressions.\n",
    "\n",
    "#### HW3: Find the error in the program below. It is supposed to print the first 10 alphabets\n",
    "\n",
    "```\n",
    "for i in {a.,j}\n",
    "do\n",
    "echo $i\n",
    "done\n",
    "```\n",
    "\n",
    "#### HW4(Bonus): Print only odd numbers till 10\n",
    "\n"
   ]
  },
  {
   "cell_type": "code",
   "execution_count": 42,
   "metadata": {},
   "outputs": [
    {
     "name": "stdout",
     "output_type": "stream",
     "text": [
      "a\n",
      "b\n",
      "c\n",
      "d\n",
      "e\n",
      "f\n",
      "g\n",
      "h\n",
      "i\n",
      "j\n"
     ]
    }
   ],
   "source": [
    "%%bash\n",
    "for i in {a..j}\n",
    "do\n",
    "echo $i\n",
    "done"
   ]
  },
  {
   "cell_type": "code",
   "execution_count": 48,
   "metadata": {},
   "outputs": [
    {
     "name": "stdout",
     "output_type": "stream",
     "text": [
      "t1\n"
     ]
    },
    {
     "name": "stderr",
     "output_type": "stream",
     "text": [
      "mkdir: data: File exists\n",
      "cp: data-new/art is a directory (not copied).\n",
      "cp: data-new/fastq is a directory (not copied).\n",
      "cp: data-new/tmp is a directory (not copied).\n"
     ]
    }
   ],
   "source": [
    "%%bash\n",
    "mkdir data\n",
    "cp data-new/* data\n",
    "ls data"
   ]
  },
  {
   "cell_type": "code",
   "execution_count": 16,
   "metadata": {},
   "outputs": [
    {
     "name": "stdout",
     "output_type": "stream",
     "text": [
      "1.3_jupyter-basics.ipynb\n",
      "1.4_working-with-files.ipynb\n",
      "1.5_redirection-and-pipes.ipynb\n",
      "1.6_awk.ipynb\n",
      "1.7_for_loop_and_string_replacement.ipynb\n",
      "data\n",
      "file_list.txt\n",
      "git_reset_local_repo.ipynb\n",
      "t1\n",
      "t2\n",
      "art\n",
      "fastq\n",
      "t1\n",
      "tmp\n",
      "simulated1.R1.fq\n",
      "simulated1.R2.fq\n",
      "simulated2.R1.fq\n",
      "simulated2.R2.fq\n",
      "simulated3.R1.fq\n",
      "simulated3.R2.fq\n",
      "simulated4.R1.fq\n",
      "simulated4.R2.fq\n",
      "simulated5.R1.fq\n",
      "simulated5.R2.fq\n"
     ]
    }
   ],
   "source": [
    "%%bash\n",
    "ls\n",
    "cd data\n",
    "ls\n",
    "cd  fastq\n",
    "ls\n"
   ]
  },
  {
   "cell_type": "code",
   "execution_count": 15,
   "metadata": {},
   "outputs": [
    {
     "name": "stdout",
     "output_type": "stream",
     "text": [
      "1.3_jupyter-basics.ipynb\n",
      "1.4_working-with-files.ipynb\n",
      "1.5_redirection-and-pipes.ipynb\n",
      "1.6_awk.ipynb\n",
      "1.7_for_loop_and_string_replacement.ipynb\n",
      "data\n",
      "file_list.txt\n",
      "git_reset_local_repo.ipynb\n",
      "t1\n",
      "t2\n"
     ]
    }
   ],
   "source": [
    "%%bash\n",
    "ls"
   ]
  },
  {
   "cell_type": "code",
   "execution_count": 5,
   "metadata": {},
   "outputs": [],
   "source": [
    "%%bash\n",
    "cd data-new/fastq\n",
    "for i in $(ls)\n",
    "do \n",
    "mv $i ${i/.fastq/.fq}\n",
    "done"
   ]
  },
  {
   "cell_type": "code",
   "execution_count": 6,
   "metadata": {},
   "outputs": [
    {
     "name": "stdout",
     "output_type": "stream",
     "text": [
      "simulated1.R1.fq\n",
      "simulated1.R2.fq\n",
      "simulated2.R1.fq\n",
      "simulated2.R2.fq\n",
      "simulated3.R1.fq\n",
      "simulated3.R2.fq\n",
      "simulated4.R1.fq\n",
      "simulated4.R2.fq\n",
      "simulated5.R1.fq\n",
      "simulated5.R2.fq\n"
     ]
    }
   ],
   "source": [
    "%%bash\n",
    "cd data-new/fastq\n",
    "ls"
   ]
  },
  {
   "cell_type": "code",
   "execution_count": 8,
   "metadata": {},
   "outputs": [
    {
     "name": "stdout",
     "output_type": "stream",
     "text": [
      "@Puerto_5207_5777_1:0:0_2:0:0_0/2\n",
      "@Puerto_4126_4595_1:0:0_0:0:0_1/2\n",
      "@Puerto_8069_8649_4:0:0_1:0:0_2/2\n",
      "@Puerto_2090_2540_1:0:0_3:0:0_3/2\n",
      "@Puerto_7758_8266_0:0:0_1:0:0_4/2\n",
      "@Puerto_2795_3256_2:0:0_0:0:0_5/2\n",
      "@Puerto_2172_2650_0:0:0_2:0:0_6/2\n",
      "@Puerto_3618_4126_1:0:0_1:0:0_7/2\n",
      "@Puerto_362_896_1:0:0_1:0:0_8/2\n",
      "@Puerto_8730_9289_0:0:0_1:0:0_9/2\n",
      "@Puerto_2020_2513_1:0:0_2:0:0_a/2\n",
      "@Puerto_8179_8741_1:0:0_0:0:0_b/2\n",
      "@Puerto_8541_9051_1:0:0_2:0:0_c/2\n",
      "@Puerto_1817_2345_0:0:0_3:0:0_d/2\n",
      "@Puerto_8936_9483_0:0:0_1:0:0_e/2\n",
      "@Puerto_1548_2094_1:0:0_2:0:0_f/2\n",
      "@Puerto_7508_8051_2:0:0_2:0:0_10/2\n",
      "@Puerto_6768_7305_1:0:0_0:0:0_11/2\n",
      "@Puerto_5435_5937_5:0:0_1:0:0_12/2\n",
      "@Puerto_9144_9685_4:0:0_0:0:0_13/2\n"
     ]
    }
   ],
   "source": [
    "%%bash\n",
    "cd data-new/fastq\n",
    "#head simulated1.R2.fq.newtext.newtext.newtext.txt\n",
    "awk 'NR%4==1' simulated1.R2.fq\n",
    "\n"
   ]
  },
  {
   "cell_type": "code",
   "execution_count": 41,
   "metadata": {},
   "outputs": [
    {
     "name": "stdout",
     "output_type": "stream",
     "text": [
      "helloworld\n",
      "hellofoo\n"
     ]
    }
   ],
   "source": [
    "%%bash\n",
    "a=\"helloworld\"   #world to foo\n",
    "echo $a\n",
    "echo ${a/world/foo}"
   ]
  }
 ],
 "metadata": {
  "kernelspec": {
   "display_name": "Python 3",
   "language": "python",
   "name": "python3"
  },
  "language_info": {
   "codemirror_mode": {
    "name": "ipython",
    "version": 3
   },
   "file_extension": ".py",
   "mimetype": "text/x-python",
   "name": "python",
   "nbconvert_exporter": "python",
   "pygments_lexer": "ipython3",
   "version": "3.6.5"
  }
 },
 "nbformat": 4,
 "nbformat_minor": 2
}
